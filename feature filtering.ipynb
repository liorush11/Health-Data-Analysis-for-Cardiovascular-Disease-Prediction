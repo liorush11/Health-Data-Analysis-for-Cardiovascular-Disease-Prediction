{
 "cells": [
  {
   "cell_type": "markdown",
   "id": "58484a5d",
   "metadata": {},
   "source": [
    "סינון"
   ]
  },
  {
   "cell_type": "code",
   "execution_count": null,
   "id": "8ac1e951",
   "metadata": {},
   "outputs": [],
   "source": [
    "# הגדר את שם משתנה המטרה\n",
    "target_variable = 'dead_5y'\n",
    "\n",
    "\n",
    "# פיצול המשתנים הנומריים והקטגוריאליים\n",
    "numeric_columns = data_df.select_dtypes(include=['float64', 'int64']).columns\n",
    "categorical_columns = data_df.select_dtypes(include=['object', 'category']).columns\n",
    "\n",
    "\n",
    "# הסרת משתנה המטרה מהרשימות\n",
    "numeric_columns = [col for col in numeric_columns if col != target_variable]\n",
    "categorical_columns = [col for col in categorical_columns if col != target_variable]\n",
    "\n",
    "\n",
    "# משתנה מטרה נומרי - חישוב קורלציה\n",
    "if data_df[target_variable].dtype in ['float64', 'int64']:\n",
    "    print(\"Correlation with Target Variable:\")\n",
    "    for col in numeric_columns:\n",
    "        correlation, p_value = stats.pearsonr(data_df[col], data_df[target_variable])\n",
    "        print(f\"{col}: Correlation={correlation:.3f}, p-value={p_value:.3f}\")\n",
    "\n",
    "\n",
    "# משתנה מטרה קטגוריאלי - משתנים נומריים\n",
    "if data_df[target_variable].dtype in ['object', 'category', 'int64']:\n",
    "    print(\"\\nNumerical Features vs Categorical Target Variable:\")\n",
    "    for col in numeric_columns:\n",
    "        # בדיקת נורמליות\n",
    "        groups = [group[col].dropna() for name, group in data_df.groupby(target_variable)]\n",
    "        is_normal = all(stats.shapiro(group).pvalue > 0.05 for group in groups if len(group) > 3)\n",
    "        if is_normal:\n",
    "            t_stat, p_value = stats.f_oneway(*groups)  # מבחן ANOVA\n",
    "            test_type = \"ANOVA\"\n",
    "        else:\n",
    "            t_stat, p_value = stats.kruskal(*groups)  # מבחן Kruskal-Wallis\n",
    "            test_type = \"Kruskal-Wallis\"\n",
    "        print(f\"{col}: Test={test_type}, Statistic={t_stat:.3f}, p-value={p_value:.3f}\")\n",
    "\n",
    "\n",
    "# משתנה מטרה נומרי - משתנים קטגוריאליים\n",
    "if data_df[target_variable].dtype in ['float64', 'int64']:\n",
    "    print(\"\\nCategorical Features vs Numerical Target Variable:\")\n",
    "    for col in categorical_columns:\n",
    "        groups = [group[target_variable].dropna() for name, group in data_df.groupby(col)]\n",
    "        is_normal = all(stats.shapiro(group).pvalue > 0.05 for group in groups if len(group) > 3)\n",
    "        if is_normal:\n",
    "            t_stat, p_value = stats.f_oneway(*groups)  # מבחן ANOVA\n",
    "            test_type = \"ANOVA\"\n",
    "        else:\n",
    "            t_stat, p_value = stats.kruskal(*groups)  # מבחן Kruskal-Wallis\n",
    "            test_type = \"Kruskal-Wallis\"\n",
    "        print(f\"{col}: Test={test_type}, Statistic={t_stat:.3f}, p-value={p_value:.3f}\")\n",
    "\n",
    "\n",
    "# שני משתנים קטגוריאליים - חי בריבוע\n",
    "if data_df[target_variable].dtype in ['object', 'category', 'int64']:\n",
    "    print(\"\\nCategorical Features vs Categorical Target Variable:\")\n",
    "    for col in categorical_columns:\n",
    "        contingency_table = pd.crosstab(data_df[col], data_df[target_variable])\n",
    "        chi2, p_value, dof, expected = stats.chi2_contingency(contingency_table)\n",
    "        print(f\"{col}: Chi2={chi2:.3f}, p-value={p_value:.3f}, Degrees of Freedom={dof}\")\n"
   ]
  }
 ],
 "metadata": {
  "language_info": {
   "name": "python"
  }
 },
 "nbformat": 4,
 "nbformat_minor": 5
}
