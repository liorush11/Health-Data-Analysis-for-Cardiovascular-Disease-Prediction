{
 "cells": [
  {
   "cell_type": "code",
   "execution_count": null,
   "id": "d606e9d4",
   "metadata": {},
   "outputs": [],
   "source": [
    "pip install sweetviz"
   ]
  },
  {
   "cell_type": "code",
   "execution_count": null,
   "id": "4d48ac16",
   "metadata": {},
   "outputs": [],
   "source": [
    "import sweetviz as sv\n",
    "print(\"SweetViz is installed successfully!\")"
   ]
  },
  {
   "cell_type": "code",
   "execution_count": null,
   "id": "3c511eba",
   "metadata": {},
   "outputs": [],
   "source": [
    "from google.colab import files\n",
    "\n",
    "uploaded = files.upload()"
   ]
  },
  {
   "cell_type": "code",
   "execution_count": null,
   "id": "2a2b827e",
   "metadata": {},
   "outputs": [],
   "source": [
    "import pandas as pd\n",
    "\n",
    "# קריאת הקבצים שהועלו\n",
    "description_df = pd.read_excel(\"death_dataset_description.xlsx\")\n",
    "data_df = pd.read_csv(\"death_prediction_synthetic.csv\")\n",
    "\n",
    "# בדיקת הנתונים\n",
    "print(description_df.head())\n",
    "print(data_df.info())"
   ]
  }
 ],
 "metadata": {
  "language_info": {
   "name": "python"
  }
 },
 "nbformat": 4,
 "nbformat_minor": 5
}
