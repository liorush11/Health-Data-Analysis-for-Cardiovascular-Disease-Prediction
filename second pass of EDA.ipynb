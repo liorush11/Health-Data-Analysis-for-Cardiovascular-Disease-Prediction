{
 "cells": [
  {
   "cell_type": "markdown",
   "id": "be2b782c",
   "metadata": {},
   "source": [
    "EDA חוזר:"
   ]
  },
  {
   "cell_type": "code",
   "execution_count": null,
   "id": "276068f3",
   "metadata": {},
   "outputs": [],
   "source": [
    "\n",
    "# שלב 1: רשימת המשתנים שנותחו ונוקו\n",
    "columns_to_analyze = ['gravity_u', 'nitrites_u', 'leuko_u', 'proteinuria', 'albumin', 'ACR']\n",
    "\n",
    "\n",
    "# סינון הנתונים למשתנים הרלוונטים\n",
    "eda_data = data_df[columns_to_analyze]\n",
    "\n",
    "\n",
    "\n",
    "\n",
    "# שלב 2: סטטיסטיקות תיאוריות\n",
    "print(\"\\nסטטיסטיקות תיאוריות למשתנים הנבחרים:\\n\", eda_data.describe(include='all'))\n",
    "\n",
    "\n",
    "# שלב 3: התפלגויות לכל משתנה\n",
    "for col in columns_to_analyze:\n",
    "    plt.figure(figsize=(8, 4))\n",
    "    if eda_data[col].dtype == 'object':  # משתנה קטגוריאלי\n",
    "        sns.countplot(x=col, data=eda_data)\n",
    "        plt.title(f'התפלגות הערכים ב-{col}')\n",
    "    else:  # משתנה נומרי\n",
    "        sns.histplot(eda_data[col], kde=True, bins=20)\n",
    "        plt.title(f'התפלגות הערכים ב-{col}')\n",
    "    plt.xticks(rotation=45)\n",
    "    plt.show()\n",
    "\n",
    "\n",
    "# שלב 4: בדיקת ערכים חריגים באמצעות boxplot\n",
    "for col in columns_to_analyze:\n",
    "    if eda_data[col].dtype != 'object':  # רק למשתנים נומריים\n",
    "        plt.figure(figsize=(8, 4))\n",
    "        sns.boxplot(x=eda_data[col])\n",
    "        plt.title(f'Boxplot למשתנה {col}')\n",
    "        plt.show()\n",
    "\n",
    "\n",
    "# שלב 5: בדיקת קשרים בין משתנים\n",
    "sns.pairplot(eda_data, diag_kind='kde')\n",
    "plt.suptitle(\"Pairplot למשתנים הנבחרים\", y=1.02)\n",
    "plt.show()\n"
   ]
  }
 ],
 "metadata": {
  "language_info": {
   "name": "python"
  }
 },
 "nbformat": 4,
 "nbformat_minor": 5
}
